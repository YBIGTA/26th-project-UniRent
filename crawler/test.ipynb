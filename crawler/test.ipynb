{
 "cells": [
  {
   "cell_type": "code",
   "execution_count": 1,
   "metadata": {},
   "outputs": [
    {
     "name": "stderr",
     "output_type": "stream",
     "text": [
      "/Library/Frameworks/Python.framework/Versions/3.11/lib/python3.11/site-packages/requests/__init__.py:109: RequestsDependencyWarning: urllib3 (2.3.0) or chardet (None)/charset_normalizer (3.1.0) doesn't match a supported version!\n",
      "  warnings.warn(\n"
     ]
    },
    {
     "name": "stdout",
     "output_type": "stream",
     "text": [
      "Fileobj must implement read\n",
      "Message: no such element: Unable to locate element: {\"method\":\"xpath\",\"selector\":\"//*[@id=\"__next\"]/div/main/section/div[2]/div/div/button[3]\"}\n",
      "  (Session info: chrome=133.0.6943.127); For documentation on this error, please visit: https://www.selenium.dev/documentation/webdriver/troubleshooting/errors#no-such-element-exception\n",
      "Stacktrace:\n",
      "0   chromedriver                        0x00000001025a6b58 cxxbridge1$str$ptr + 2724820\n",
      "1   chromedriver                        0x000000010259f1b8 cxxbridge1$str$ptr + 2693684\n",
      "2   chromedriver                        0x0000000102105afc cxxbridge1$string$len + 93348\n",
      "3   chromedriver                        0x000000010214c8f8 cxxbridge1$string$len + 383648\n",
      "4   chromedriver                        0x000000010218db94 cxxbridge1$string$len + 650556\n",
      "5   chromedriver                        0x0000000102140ba0 cxxbridge1$string$len + 335176\n",
      "6   chromedriver                        0x000000010256f610 cxxbridge1$str$ptr + 2498188\n",
      "7   chromedriver                        0x0000000102572924 cxxbridge1$str$ptr + 2511264\n",
      "8   chromedriver                        0x0000000102554cb0 cxxbridge1$str$ptr + 2389292\n",
      "9   chromedriver                        0x00000001025731cc cxxbridge1$str$ptr + 2513480\n",
      "10  chromedriver                        0x0000000102545c98 cxxbridge1$str$ptr + 2327828\n",
      "11  chromedriver                        0x000000010258f880 cxxbridge1$str$ptr + 2629884\n",
      "12  chromedriver                        0x000000010258fa08 cxxbridge1$str$ptr + 2630276\n",
      "13  chromedriver                        0x000000010259ee2c cxxbridge1$str$ptr + 2692776\n",
      "14  libsystem_pthread.dylib             0x00000001a2fa826c _pthread_start + 148\n",
      "15  libsystem_pthread.dylib             0x00000001a2fa308c thread_start + 8\n",
      "\n",
      "{'delete': [], 'new': {}}\n"
     ]
    }
   ],
   "source": [
    "import update\n",
    "import pprint\n",
    "\n",
    "data = update.update([], \"howbouthere\")\n",
    "pprint.pprint(data)"
   ]
  }
 ],
 "metadata": {
  "kernelspec": {
   "display_name": "mcl",
   "language": "python",
   "name": "mcl"
  },
  "language_info": {
   "codemirror_mode": {
    "name": "ipython",
    "version": 3
   },
   "file_extension": ".py",
   "mimetype": "text/x-python",
   "name": "python",
   "nbconvert_exporter": "python",
   "pygments_lexer": "ipython3",
   "version": "3.11.1"
  }
 },
 "nbformat": 4,
 "nbformat_minor": 2
}
