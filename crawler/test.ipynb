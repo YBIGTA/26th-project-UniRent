{
 "cells": [
  {
   "cell_type": "code",
   "execution_count": null,
   "metadata": {},
   "outputs": [
    {
     "name": "stderr",
     "output_type": "stream",
     "text": [
      "/Library/Frameworks/Python.framework/Versions/3.11/lib/python3.11/site-packages/requests/__init__.py:109: RequestsDependencyWarning: urllib3 (2.3.0) or chardet (None)/charset_normalizer (3.1.0) doesn't match a supported version!\n",
      "  warnings.warn(\n"
     ]
    },
    {
     "name": "stdout",
     "output_type": "stream",
     "text": [
      "아현역1분테라스복층오피\n",
      "서울역시청광화문/3인\n",
      "🎈서울역광화문/남산뻥뷰\n"
     ]
    },
    {
     "ename": "KeyboardInterrupt",
     "evalue": "",
     "output_type": "error",
     "traceback": [
      "\u001b[0;31m---------------------------------------------------------------------------\u001b[0m",
      "\u001b[0;31mKeyboardInterrupt\u001b[0m                         Traceback (most recent call last)",
      "Cell \u001b[0;32mIn[1], line 4\u001b[0m\n\u001b[1;32m      1\u001b[0m \u001b[38;5;28;01mimport\u001b[39;00m \u001b[38;5;21;01mupdate\u001b[39;00m\n\u001b[1;32m      2\u001b[0m \u001b[38;5;28;01mimport\u001b[39;00m \u001b[38;5;21;01mpprint\u001b[39;00m\n\u001b[0;32m----> 4\u001b[0m data \u001b[38;5;241m=\u001b[39m \u001b[43mupdate\u001b[49m\u001b[38;5;241;43m.\u001b[39;49m\u001b[43mupdate\u001b[49m\u001b[43m(\u001b[49m\u001b[43m[\u001b[49m\u001b[43m]\u001b[49m\u001b[43m,\u001b[49m\u001b[43m \u001b[49m\u001b[38;5;124;43m\"\u001b[39;49m\u001b[38;5;124;43mthreethree\u001b[39;49m\u001b[38;5;124;43m\"\u001b[39;49m\u001b[43m)\u001b[49m\n\u001b[1;32m      5\u001b[0m pprint\u001b[38;5;241m.\u001b[39mpprint(data)\n",
      "File \u001b[0;32m~/Desktop/26th-project-UniRent/crawler/update.py:162\u001b[0m, in \u001b[0;36mupdate\u001b[0;34m(prevList, site)\u001b[0m\n\u001b[1;32m    158\u001b[0m fMap\u001b[38;5;241m=\u001b[39m {\u001b[38;5;124m\"\u001b[39m\u001b[38;5;124mhowbouthere\u001b[39m\u001b[38;5;124m\"\u001b[39m: howbouthere,\n\u001b[1;32m    159\u001b[0m        \u001b[38;5;124m\"\u001b[39m\u001b[38;5;124mthreethree\u001b[39m\u001b[38;5;124m\"\u001b[39m: threethree}\n\u001b[1;32m    160\u001b[0m updater \u001b[38;5;241m=\u001b[39m fMap[site]\n\u001b[0;32m--> 162\u001b[0m data \u001b[38;5;241m=\u001b[39m \u001b[43mupdater\u001b[49m\u001b[43m(\u001b[49m\u001b[43mprevList\u001b[49m\u001b[43m)\u001b[49m\n\u001b[1;32m    163\u001b[0m \u001b[38;5;28;01mreturn\u001b[39;00m data\n",
      "File \u001b[0;32m~/Desktop/26th-project-UniRent/crawler/update.py:114\u001b[0m, in \u001b[0;36mthreethree\u001b[0;34m(prevList)\u001b[0m\n\u001b[1;32m    112\u001b[0m         driver\u001b[38;5;241m.\u001b[39mclose()\n\u001b[1;32m    113\u001b[0m         driver\u001b[38;5;241m.\u001b[39mswitch_to\u001b[38;5;241m.\u001b[39mwindow(windows[\u001b[38;5;241m0\u001b[39m])\n\u001b[0;32m--> 114\u001b[0m         sleep(\u001b[38;5;241m2\u001b[39m)\n\u001b[1;32m    116\u001b[0m \u001b[38;5;28;01mexcept\u001b[39;00m \u001b[38;5;167;01mException\u001b[39;00m \u001b[38;5;28;01mas\u001b[39;00m e:\n\u001b[1;32m    117\u001b[0m     flag \u001b[38;5;241m=\u001b[39m \u001b[38;5;28;01mFalse\u001b[39;00m\n",
      "\u001b[0;31mKeyboardInterrupt\u001b[0m: "
     ]
    }
   ],
   "source": [
    "import update\n",
    "import pprint\n",
    "\n",
    "data = update.update([], \"threethree\")\n",
    "pprint.pprint(data)"
   ]
  }
 ],
 "metadata": {
  "kernelspec": {
   "display_name": "mcl",
   "language": "python",
   "name": "mcl"
  },
  "language_info": {
   "codemirror_mode": {
    "name": "ipython",
    "version": 3
   },
   "file_extension": ".py",
   "mimetype": "text/x-python",
   "name": "python",
   "nbconvert_exporter": "python",
   "pygments_lexer": "ipython3",
   "version": "3.11.1"
  }
 },
 "nbformat": 4,
 "nbformat_minor": 2
}
